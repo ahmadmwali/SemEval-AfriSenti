{
  "cells": [
    {
      "cell_type": "markdown",
      "metadata": {
        "id": "AEkdLm_JF84s"
      },
      "source": [
        "<center>\n",
        "<img src=\"https://raw.githubusercontent.com/afrisenti-semeval/afrisent-semeval-2023/main/afrisenti-logo.png\" width=\"30%\" />\n",
        "</center>"
      ]
    },
    {
      "cell_type": "markdown",
      "metadata": {
        "id": "pXY0zNpmLM1Z"
      },
      "source": [
        "<center>\n",
        "\n",
        "#SemEval 2023 Shared Task 12: AfriSenti (Task B)\n",
        "\n",
        "###Starter Notebook\n",
        "\n",
        "</center>"
      ]
    },
    {
      "cell_type": "markdown",
      "metadata": {
        "id": "jURfhK3zGM9x"
      },
      "source": [
        "#Leveraging Pre-trained A Language Model to Train A Sentiment Classifier\n",
        "\n",
        "**Authors:**\n",
        "[Idris Abdulmumin](https://www.hausanlp.org/author/idris-abdulmuminu/), [David Adelani](https://dadelani.github.io/) and [Shamsuddeen Hassan Muhammad](https://www.hausanlp.org/author/shamsuddeen-hassan-muhammad/).\n",
        "\n",
        "**Introduction:** \n",
        "\n",
        "You are welcome to participate in our first-of-its-kind SemEval Shared Task! \n",
        "\n",
        "In this starter notebook, we will take you through the process of fine-tuning a pre-trained language model on a sample data to build a sentiment classifier. The notebook was adapted from a [Hugginface implementation]( https://github.com/huggingface/transformers/blob/main/examples/pytorch/text-classification/run_xnli.py) for such tasks.\n",
        "\n",
        "**Language (Track)**\n",
        "* Track 14: Multilingual\n",
        "\n",
        "**Level:** <font color='blue'>`Beginner to Intermediate`</font>\n",
        "\n",
        "**Outline:** \n",
        "\n",
        "1. Installation and importation of necessary libraries\n",
        "2. Setting up the project parameters.\n",
        "3. Running training and evaluation\n",
        "\n",
        "**Before you start:**\n",
        "\n",
        "It is **strongly advised** that you use a GPU to speed up training. To do this, go to the \"Runtime\" menu in Colab, select \"Change runtime type\" and then in the popup menu, choose \"GPU\" in the \"Hardware accelerator\" box.\n",
        "\n",
        "NB: \n",
        "\n",
        "- **The codes in this notebook are provided to familiarize yourselves with fine-tuning language models for sentiment classification. You may extend and (or) modify as appropriate to obtain competitive performances**\n",
        "\n",
        "- **We also use the data as it is, without any cleaning such as removal of emoji and hyperlinks.**\n",
        "\n",
        "\n"
      ]
    },
    {
      "cell_type": "markdown",
      "metadata": {
        "id": "V4BB4JDx5W8d"
      },
      "source": [
        "#1) Installations and imports"
      ]
    },
    {
      "cell_type": "markdown",
      "metadata": {
        "id": "DObkW3ulM7yg"
      },
      "source": [
        "##a. Mount drive (if you are running on colab)"
      ]
    },
    {
      "cell_type": "code",
      "execution_count": null,
      "metadata": {
        "colab": {
          "base_uri": "https://localhost:8080/"
        },
        "id": "Z0IelbK7NBZZ",
        "outputId": "a131222b-dfca-4b04-c8ec-161e2cf4bcab"
      },
      "outputs": [
        {
          "name": "stdout",
          "output_type": "stream",
          "text": [
            "Mounted at /content/drive\n"
          ]
        }
      ],
      "source": [
        "from google.colab import drive\n",
        "drive.mount('/content/drive')"
      ]
    },
    {
      "cell_type": "markdown",
      "metadata": {
        "id": "U-OZxUWIMqtq"
      },
      "source": [
        "##b. Clone or update competition repository\n",
        "\n",
        "After cloning, under MyDrive, you will see afrisenti-semeval-2023 folder with all the the data for the afrisenti shared task (training and dev) "
      ]
    },
    {
      "cell_type": "code",
      "execution_count": null,
      "metadata": {
        "id": "2392TKadMvqT"
      },
      "outputs": [],
      "source": [
        "%cd /content/drive/MyDrive\n",
        "\n",
        "import os\n",
        "\n",
        "PROJECT_DIR = '/content/drive/MyDrive/afrisent-semeval-2023'\n",
        "PROJECT_GITHUB_URL = 'https://github.com/afrisenti-semeval/afrisent-semeval-2023.git'\n",
        "\n",
        "if not os.path.isdir(PROJECT_DIR):\n",
        "  !git clone {PROJECT_GITHUB_URL}\n",
        "else:\n",
        "  %cd {PROJECT_DIR}\n",
        "  !git pull {PROJECT_GITHUB_URL}"
      ]
    },
    {
      "cell_type": "markdown",
      "metadata": {
        "id": "Xb03Gp9fUN8C"
      },
      "source": [
        "##c. Install required libraries\n",
        "\n",
        "- Set the project dire\n",
        "ctory in the cell below, where the requirements file should also be located, and run the cell"
      ]
    },
    {
      "cell_type": "code",
      "execution_count": null,
      "metadata": {
        "id": "4Cbmi_mQ4k3a"
      },
      "outputs": [],
      "source": [
        "if os.path.isdir(PROJECT_DIR):\n",
        "  #The requirements file should be in PROJECT_DIR\n",
        "  if os.path.isfile(os.path.join(PROJECT_DIR, 'starter_kit/requirements.txt')):\n",
        "    !pip install -r starter_kit/requirements.txt\n",
        "  else:\n",
        "    print('requirements.txt file not found')\n",
        "\n",
        "else:\n",
        "  print(\"Project directory not found, please check again.\")"
      ]
    },
    {
      "cell_type": "markdown",
      "metadata": {
        "id": "2zszKhh2Ufb3"
      },
      "source": [
        "##d. Import libraries\n",
        "\n",
        "Import libraries below"
      ]
    },
    {
      "cell_type": "code",
      "execution_count": null,
      "metadata": {
        "id": "8QIl420aUM1O"
      },
      "outputs": [],
      "source": [
        "import pandas as pd\n",
        "import numpy as np"
      ]
    },
    {
      "cell_type": "markdown",
      "metadata": {
        "id": "SoRyMJMDJ7lF"
      },
      "source": [
        "#2) Dataset"
      ]
    },
    {
      "cell_type": "markdown",
      "metadata": {
        "id": "3wk5vMnrXMSS"
      },
      "source": [
        "##a. Formatting\n",
        "\n",
        "The training dataset that was provided for the competition is in the following format:\n",
        "\n",
        "| ID | text | label |\n",
        "| --- | --- | --- |\n",
        "| twt001 | example text | negative |\n",
        "| twt002 | example text | positive |\n",
        "| ... | ... | ... |\n",
        "\n",
        "However, the code in the starter kit do not expect the \n",
        "ID and require the training (and evaluation) data to be in the following format\n",
        "\n",
        "|text | label |\n",
        "|--- | --- |\n",
        "|example text | negative |\n",
        "|example text | positive |\n",
        "|... | ... |\n",
        "\n",
        "To reformat the data run the following cell"
      ]
    },
    {
      "cell_type": "code",
      "execution_count": null,
      "metadata": {
        "id": "fhtxr_k9AKVv"
      },
      "outputs": [],
      "source": [
        "df = pd.read_csv('/content/drive/MyDrive/afrisent-semeval-2023/SubtaskB/multilingual_train.tsv', sep='\\t', header=0)\n",
        "df_1 = pd.read_csv('/content/drive/MyDrive/afrisent-semeval-2023/SubtaskB/dev_gold/multilingual_dev_gold_label.tsv', sep='\\t', header=0)\n",
        "df = pd.concat([df, df_1], axis=0)"
      ]
    },
    {
      "cell_type": "code",
      "execution_count": null,
      "metadata": {
        "id": "LTB7XOnkAN6I"
      },
      "outputs": [],
      "source": [
        "df.to_csv('/content/drive/MyDrive/afrisent-semeval-2023/SubtaskB/multilingual_train.tsv', sep='\\t', index=False)"
      ]
    },
    {
      "cell_type": "code",
      "execution_count": null,
      "metadata": {
        "colab": {
          "base_uri": "https://localhost:8080/"
        },
        "id": "QzoSbWC678Zm",
        "outputId": "2eafd9ed-34db-4e05-d86c-6576c8ccb6c8"
      },
      "outputs": [
        {
          "name": "stdout",
          "output_type": "stream",
          "text": [
            "Data directory found.\n"
          ]
        }
      ],
      "source": [
        "# Training Data Paths\n",
        "\n",
        "TASK = 'SubtaskB'\n",
        "TRAINING_DATA_DIR = os.path.join(PROJECT_DIR, TASK)\n",
        "FORMATTED_TRAIN_DATA = os.path.join(TRAINING_DATA_DIR, 'formatted-train-data')\n",
        "\n",
        "if os.path.isdir(TRAINING_DATA_DIR):\n",
        "  print('Data directory found.')\n",
        "  if not os.path.isdir(FORMATTED_TRAIN_DATA):\n",
        "    print('Creating directory to store formatted data.')\n",
        "    os.mkdir(FORMATTED_TRAIN_DATA)\n",
        "else:\n",
        "  print(TRAINING_DATA_DIR + ' is not a valid directory or does not exist!')"
      ]
    },
    {
      "cell_type": "code",
      "execution_count": null,
      "metadata": {
        "colab": {
          "base_uri": "https://localhost:8080/"
        },
        "id": "ssyIZOUJMrzM",
        "outputId": "cc68d32b-dd1e-4138-8e21-7a2b41bd717b"
      },
      "outputs": [
        {
          "name": "stdout",
          "output_type": "stream",
          "text": [
            "/content/drive/MyDrive/afrisent-semeval-2023/SubtaskB\n",
            "README.txt skipped!\n",
            "multilingual_dev.tsv skipped!\n",
            "formatted-train-data skipped!\n",
            "splitted-train-dev-test skipped!\n",
            "splitted-train-dev skipped!\n",
            "dev_gold skipped!\n",
            "test skipped!\n",
            ".DS_Store skipped!\n"
          ]
        }
      ],
      "source": [
        "%cd {TRAINING_DATA_DIR}\n",
        "\n",
        "training_files = os.listdir()\n",
        "\n",
        "if len(training_files) > 0:\n",
        "  for training_file in training_files:\n",
        "    if training_file.endswith('train.tsv'):\n",
        "\n",
        "      data = training_file.split('_')[0]\n",
        "      if not os.path.isdir(os.path.join(FORMATTED_TRAIN_DATA, data)):\n",
        "        print(data, 'Creating directory to store train, dev and test splits.')\n",
        "        os.mkdir(os.path.join(FORMATTED_TRAIN_DATA, data))\n",
        "      \n",
        "      df_original = pd.read_csv(training_file, sep='\\t', names=['ID', 'text', 'label'], header=0)\n",
        "      df_gold = pd.read_csv('/content/drive/MyDrive/afrisent-semeval-2023/SubtaskB/dev_gold/multilingual_dev_gold_label.tsv',  sep='\\t', names=['ID', 'text', 'label'], header=0)\n",
        "      df = pd.concat([df_original, df_gold], axis=0)\n",
        "      df[['text', 'label']].to_csv(os.path.join(FORMATTED_TRAIN_DATA, data, 'train.tsv'), sep='\\t', index=False)\n",
        "    else:\n",
        "      print(training_file + ' skipped!')\n",
        "else:\n",
        "  print('No files are found in this directory!')"
      ]
    },
    {
      "cell_type": "markdown",
      "metadata": {
        "id": "7S2Dup8GHl1Q"
      },
      "source": [
        "After running the code above, a new folder (called formated-train-data) with formated files is created in the \"datasets\" folder in the train sub-folder."
      ]
    },
    {
      "cell_type": "markdown",
      "metadata": {
        "id": "5LgeVN_wXGrq"
      },
      "source": [
        "##b. <font color='red'>`(Optional) Creating Evaluation (Dev and Test) sets from the available training data`</font>\n",
        "\n",
        "You may wish to create train and evaluation (dev and test) sets from the training data provided. If you wish to do so, you can run any of the cells below`"
      ]
    },
    {
      "cell_type": "markdown",
      "metadata": {
        "id": "APxVxL06lfux"
      },
      "source": [
        "###i. If you want to create both the Dev and Test sets, run this cell"
      ]
    },
    {
      "cell_type": "code",
      "execution_count": null,
      "metadata": {
        "colab": {
          "base_uri": "https://localhost:8080/"
        },
        "id": "aVq1Blz0YF2b",
        "outputId": "c3c0a39f-a30d-4c4f-b995-07c90e9bd5ab"
      },
      "outputs": [
        {
          "name": "stdout",
          "output_type": "stream",
          "text": [
            "Data directory found.\n",
            "/content/drive/MyDrive/afrisent-semeval-2023/SubtaskB/formatted-train-data\n"
          ]
        }
      ],
      "source": [
        "if os.path.isdir(FORMATTED_TRAIN_DATA):\n",
        "  print('Data directory found.')\n",
        "  SPLITTED_DATA = os.path.join(TRAINING_DATA_DIR, 'splitted-train-dev-test')\n",
        "  if not os.path.isdir(SPLITTED_DATA):\n",
        "    print('Creating directory to store train, dev and test splits.')\n",
        "    os.mkdir(SPLITTED_DATA)\n",
        "else:\n",
        "  print(FORMATTED_TRAIN_DATA + ' is not a valid directory or does not exist!')\n",
        "\n",
        "%cd {FORMATTED_TRAIN_DATA}\n",
        "formatted_training_files = os.listdir()\n",
        "\n",
        "if len(formatted_training_files) > 0:\n",
        "  for data_name in formatted_training_files:\n",
        "    formatted_training_file = os.path.join(data_name, 'train.tsv')\n",
        "    if os.path.isfile(formatted_training_file):\n",
        "      labeled_tweets = pd.read_csv(formatted_training_file, sep='\\t', names=['text', 'label'], header=0)\n",
        "      train, dev, test = np.split(labeled_tweets.sample(frac=1, random_state=42), [int(.7*len(labeled_tweets)), int(.8*len(labeled_tweets))])\n",
        "\n",
        "      if not os.path.isdir(os.path.join(SPLITTED_DATA, data_name)):\n",
        "        print(data_name, 'Creating directory to store train, dev and test splits.')\n",
        "        os.mkdir(os.path.join(SPLITTED_DATA, data_name))\n",
        "\n",
        "      train.sample(frac=1).to_csv(os.path.join(SPLITTED_DATA, data_name, 'train.tsv'), sep='\\t', index=False)\n",
        "      dev.sample(frac=1).to_csv(os.path.join(SPLITTED_DATA, data_name, 'dev.tsv'), sep='\\t', index=False)\n",
        "      test.sample(frac=1).to_csv(os.path.join(SPLITTED_DATA, data_name,'test.tsv'), sep='\\t', index=False)\n",
        "    else:\n",
        "      print(training_file + ' is not a supported file!')\n",
        "else:\n",
        "  print('No files are found in this directory!')"
      ]
    },
    {
      "cell_type": "markdown",
      "metadata": {
        "id": "cZy_rzouJZFz"
      },
      "source": [
        "After running the code above, a new folder (called splitted-train-dev-test) with train-dev-test split is created in the \"datasets\" folder in the train sub-folder. Here, the train-dev-test split is 70/10/20\n",
        "\n"
      ]
    },
    {
      "cell_type": "markdown",
      "metadata": {
        "id": "V4UObc2ql-Zd"
      },
      "source": [
        "###ii. If you want to create only the Dev set from the training data, please run this"
      ]
    },
    {
      "cell_type": "code",
      "execution_count": null,
      "metadata": {
        "colab": {
          "base_uri": "https://localhost:8080/"
        },
        "id": "tU24jW_gmFu9",
        "outputId": "4c05541d-3978-455d-fe66-fc77390d64ee"
      },
      "outputs": [
        {
          "name": "stdout",
          "output_type": "stream",
          "text": [
            "Data directory found.\n",
            "/content/drive/MyDrive/afrisent-semeval-2023/SubtaskB/formatted-train-data\n"
          ]
        }
      ],
      "source": [
        "from sklearn.model_selection import train_test_split\n",
        "\n",
        "if os.path.isdir(FORMATTED_TRAIN_DATA):\n",
        "  print('Data directory found.')\n",
        "  SPLITTED_DATA = os.path.join(TRAINING_DATA_DIR, 'splitted-train-dev')\n",
        "  if not os.path.isdir(SPLITTED_DATA):\n",
        "    print('Creating directory to store train, dev and test splits.')\n",
        "    os.mkdir(SPLITTED_DATA)\n",
        "else:\n",
        "  print(FORMATTED_TRAIN_DATA + ' is not a valid directory or does not exist!')\n",
        "\n",
        "%cd {FORMATTED_TRAIN_DATA}\n",
        "formatted_training_files = os.listdir()\n",
        "\n",
        "if len(formatted_training_files) > 0:\n",
        "  for data_name in formatted_training_files:\n",
        "    formatted_training_file = os.path.join(data_name, 'train.tsv')\n",
        "    if os.path.isfile(formatted_training_file):\n",
        "      labeled_tweets = pd.read_csv(formatted_training_file, sep='\\t', names=['text', 'label'], header=0)\n",
        "      train, dev = train_test_split(labeled_tweets, test_size=0.3)\n",
        "\n",
        "      if not os.path.isdir(os.path.join(SPLITTED_DATA, data_name)):\n",
        "        print(data_name, 'Creating directory to store train, dev and test splits.')\n",
        "        os.mkdir(os.path.join(SPLITTED_DATA, data_name))\n",
        "\n",
        "      train.sample(frac=1).to_csv(os.path.join(SPLITTED_DATA, data_name, 'train.tsv'), sep='\\t', index=False)\n",
        "      dev.sample(frac=1).to_csv(os.path.join(SPLITTED_DATA, data_name, 'dev.tsv'), sep='\\t', index=False)\n",
        "    else:\n",
        "      print(training_file + ' is not a supported file!')\n",
        "else:\n",
        "  print('No files are found in this directory!')"
      ]
    },
    {
      "cell_type": "markdown",
      "metadata": {
        "id": "usfr00QhKSnd"
      },
      "source": [
        "After running the code above, a new folder (called splitted-train-dev) with train-dev split is created in the \"datasets\" folder in the train sub-folder. Here, the train-dev split is 70/30\n"
      ]
    },
    {
      "cell_type": "markdown",
      "metadata": {
        "id": "aDoyRlje3Rm7"
      },
      "source": [
        "#3) Training setup"
      ]
    },
    {
      "cell_type": "markdown",
      "metadata": {
        "id": "8AaXec415s0f"
      },
      "source": [
        "##a. Set project parameters\n",
        "\n",
        "For a list of models that be used for fine-tuning, you can check [HERE](https://huggingface.co/models)."
      ]
    },
    {
      "cell_type": "code",
      "execution_count": null,
      "metadata": {
        "colab": {
          "base_uri": "https://localhost:8080/"
        },
        "id": "M0TKIFrE5ybV",
        "outputId": "6bab7c0b-b626-4155-df89-6546ad6365fc"
      },
      "outputs": [
        {
          "name": "stdout",
          "output_type": "stream",
          "text": [
            "/content/drive/MyDrive/afrisent-semeval-2023\n",
            "Everything set. You can now start model training.\n"
          ]
        }
      ],
      "source": [
        "%cd {PROJECT_DIR}\n",
        "\n",
        "# Model Training Parameters\n",
        "MODEL_NAME_OR_PATH = 'masakhane/afroxlmr-large-ner-masakhaner-1.0_2.0'\n",
        "BATCH_SIZE = 4\n",
        "LEARNING_RATE = 1e-5\n",
        "NUMBER_OF_TRAINING_EPOCHS = 5\n",
        "MAXIMUM_SEQUENCE_LENGTH = 128\n",
        "SAVE_STEPS = -1\n",
        "\n",
        "print('Everything set. You can now start model training.')"
      ]
    },
    {
      "cell_type": "markdown",
      "metadata": {
        "id": "I2qcCQnU8dgQ"
      },
      "source": [
        "##b. Train the model\n",
        "\n",
        "In the section below, we provide three options: \n",
        "\n",
        "- 1) training model without any validation; \n",
        "- 2) training model with validation but without testing; \n",
        "- 3) training a model with validation and test set."
      ]
    },
    {
      "cell_type": "markdown",
      "metadata": {
        "id": "8fEw-qcEhYnx"
      },
      "source": [
        "###i. Training on only Train set, without any evaluation"
      ]
    },
    {
      "cell_type": "code",
      "execution_count": null,
      "metadata": {
        "id": "kAgg2MmAhiiW"
      },
      "outputs": [],
      "source": [
        "DATA_DIR = os.path.join(TRAINING_DATA_DIR, 'splitted-train-dev', 'multilingual')\n",
        "OUTPUT_DIR = os.path.join(PROJECT_DIR, 'models', 'multilingual' + '_no_eval')\n",
        "\n",
        "!CUDA_VISIBLE_DEVICES=0 python starter_kit/run_textclass.py \\\n",
        "  --model_name_or_path {MODEL_NAME_OR_PATH} \\\n",
        "  --data_dir {DATA_DIR} \\\n",
        "  --do_train \\\n",
        "  --per_device_train_batch_size {BATCH_SIZE} \\\n",
        "  --learning_rate {MAXIMUM_SEQUENCE_LENGTH} \\\n",
        "  --num_train_epochs {NUMBER_OF_TRAINING_EPOCHS} \\\n",
        "  --max_seq_length {MAXIMUM_SEQUENCE_LENGTH} \\\n",
        "  --output_dir {OUTPUT_DIR} \\\n",
        "  --save_steps {SAVE_STEPS}"
      ]
    },
    {
      "cell_type": "markdown",
      "metadata": {
        "id": "wZtt5lBBLPz1"
      },
      "source": [
        "As you may observe, the training loss is very large. As a start, you can tune the training parameters and model to get a competitive result. \n",
        "\n",
        "You can observe also, there is no validation metrics (e.g., accuracy, loss etc) since we are only training without validtaion "
      ]
    },
    {
      "cell_type": "markdown",
      "metadata": {
        "id": "MpFSMaAzhS5Q"
      },
      "source": [
        "###ii. Training on only Train and Dev sets"
      ]
    },
    {
      "cell_type": "code",
      "execution_count": null,
      "metadata": {
        "colab": {
          "base_uri": "https://localhost:8080/"
        },
        "id": "3TMAD_iLhpgI",
        "outputId": "71d6f45d-4401-4e4d-b93b-c502b13d7e12"
      },
      "outputs": [
        {
          "output_type": "stream",
          "name": "stdout",
          "text": [
            "WARNING:__main__:Process rank: -1, device: cuda:0, n_gpu: 1distributed training: False, 16-bits training: False\n",
            "INFO:__main__:Training/evaluation parameters TrainingArguments(\n",
            "_n_gpu=1,\n",
            "adafactor=False,\n",
            "adam_beta1=0.9,\n",
            "adam_beta2=0.999,\n",
            "adam_epsilon=1e-08,\n",
            "auto_find_batch_size=False,\n",
            "bf16=False,\n",
            "bf16_full_eval=False,\n",
            "data_seed=None,\n",
            "dataloader_drop_last=False,\n",
            "dataloader_num_workers=0,\n",
            "dataloader_pin_memory=True,\n",
            "ddp_bucket_cap_mb=None,\n",
            "ddp_find_unused_parameters=None,\n",
            "ddp_timeout=1800,\n",
            "debug=[],\n",
            "deepspeed=None,\n",
            "disable_tqdm=False,\n",
            "do_eval=True,\n",
            "do_predict=False,\n",
            "do_train=True,\n",
            "eval_accumulation_steps=None,\n",
            "eval_delay=0,\n",
            "eval_steps=None,\n",
            "evaluation_strategy=no,\n",
            "fp16=False,\n",
            "fp16_backend=auto,\n",
            "fp16_full_eval=False,\n",
            "fp16_opt_level=O1,\n",
            "fsdp=[],\n",
            "fsdp_min_num_params=0,\n",
            "fsdp_transformer_layer_cls_to_wrap=None,\n",
            "full_determinism=False,\n",
            "gradient_accumulation_steps=1,\n",
            "gradient_checkpointing=False,\n",
            "greater_is_better=None,\n",
            "group_by_length=False,\n",
            "half_precision_backend=auto,\n",
            "hub_model_id=None,\n",
            "hub_private_repo=False,\n",
            "hub_strategy=every_save,\n",
            "hub_token=<HUB_TOKEN>,\n",
            "ignore_data_skip=False,\n",
            "include_inputs_for_metrics=False,\n",
            "jit_mode_eval=False,\n",
            "label_names=None,\n",
            "label_smoothing_factor=0.0,\n",
            "learning_rate=1e-05,\n",
            "length_column_name=length,\n",
            "load_best_model_at_end=False,\n",
            "local_rank=-1,\n",
            "log_level=passive,\n",
            "log_level_replica=passive,\n",
            "log_on_each_node=True,\n",
            "logging_dir=/content/drive/MyDrive/afrisent-semeval-2023/models/multilingual_no_test3/runs/Feb04_20-16-50_3280be1bf390,\n",
            "logging_first_step=False,\n",
            "logging_nan_inf_filter=True,\n",
            "logging_steps=500,\n",
            "logging_strategy=steps,\n",
            "lr_scheduler_type=linear,\n",
            "max_grad_norm=1.0,\n",
            "max_steps=-1,\n",
            "metric_for_best_model=None,\n",
            "mp_parameters=,\n",
            "no_cuda=False,\n",
            "num_train_epochs=5.0,\n",
            "optim=adamw_hf,\n",
            "optim_args=None,\n",
            "output_dir=/content/drive/MyDrive/afrisent-semeval-2023/models/multilingual_no_test3,\n",
            "overwrite_output_dir=True,\n",
            "past_index=-1,\n",
            "per_device_eval_batch_size=8,\n",
            "per_device_train_batch_size=4,\n",
            "prediction_loss_only=False,\n",
            "push_to_hub=False,\n",
            "push_to_hub_model_id=None,\n",
            "push_to_hub_organization=None,\n",
            "push_to_hub_token=<PUSH_TO_HUB_TOKEN>,\n",
            "ray_scope=last,\n",
            "remove_unused_columns=True,\n",
            "report_to=['tensorboard'],\n",
            "resume_from_checkpoint=None,\n",
            "run_name=/content/drive/MyDrive/afrisent-semeval-2023/models/multilingual_no_test3,\n",
            "save_on_each_node=False,\n",
            "save_steps=-1,\n",
            "save_strategy=steps,\n",
            "save_total_limit=None,\n",
            "seed=42,\n",
            "sharded_ddp=[],\n",
            "skip_memory_metrics=True,\n",
            "tf32=None,\n",
            "torch_compile=False,\n",
            "torch_compile_backend=None,\n",
            "torch_compile_mode=None,\n",
            "torchdynamo=None,\n",
            "tpu_metrics_debug=False,\n",
            "tpu_num_cores=None,\n",
            "use_ipex=False,\n",
            "use_legacy_prediction_loop=False,\n",
            "use_mps_device=False,\n",
            "warmup_ratio=0.0,\n",
            "warmup_steps=0,\n",
            "weight_decay=0.0,\n",
            "xpu_backend=None,\n",
            ")\n",
            "['negative', 'neutral', 'positive']\n",
            "[INFO|configuration_utils.py:660] 2023-02-04 20:16:52,611 >> loading configuration file config.json from cache at /root/.cache/huggingface/hub/models--masakhane--afroxlmr-large-ner-masakhaner-1.0_2.0/snapshots/c641472a193792d79130711e1d43ae1de2c156f3/config.json\n",
            "[INFO|configuration_utils.py:712] 2023-02-04 20:16:52,612 >> Model config XLMRobertaConfig {\n",
            "  \"_name_or_path\": \"masakhane/afroxlmr-large-ner-masakhaner-1.0_2.0\",\n",
            "  \"adapters\": {\n",
            "    \"adapters\": {},\n",
            "    \"config_map\": {},\n",
            "    \"fusion_config_map\": {},\n",
            "    \"fusions\": {}\n",
            "  },\n",
            "  \"architectures\": [\n",
            "    \"XLMRobertaForTokenClassification\"\n",
            "  ],\n",
            "  \"attention_probs_dropout_prob\": 0.1,\n",
            "  \"bos_token_id\": 0,\n",
            "  \"classifier_dropout\": null,\n",
            "  \"eos_token_id\": 2,\n",
            "  \"gradient_checkpointing\": false,\n",
            "  \"hidden_act\": \"gelu\",\n",
            "  \"hidden_dropout_prob\": 0.1,\n",
            "  \"hidden_size\": 1024,\n",
            "  \"id2label\": {\n",
            "    \"0\": \"LABEL_0\",\n",
            "    \"1\": \"LABEL_1\",\n",
            "    \"2\": \"LABEL_2\"\n",
            "  },\n",
            "  \"initializer_range\": 0.02,\n",
            "  \"intermediate_size\": 4096,\n",
            "  \"label2id\": {\n",
            "    \"LABEL_0\": 0,\n",
            "    \"LABEL_1\": 1,\n",
            "    \"LABEL_2\": 2\n",
            "  },\n",
            "  \"layer_norm_eps\": 1e-05,\n",
            "  \"max_position_embeddings\": 514,\n",
            "  \"model_type\": \"xlm-roberta\",\n",
            "  \"num_attention_heads\": 16,\n",
            "  \"num_hidden_layers\": 24,\n",
            "  \"output_past\": true,\n",
            "  \"pad_token_id\": 1,\n",
            "  \"position_embedding_type\": \"absolute\",\n",
            "  \"torch_dtype\": \"float32\",\n",
            "  \"transformers_version\": \"4.26.0\",\n",
            "  \"type_vocab_size\": 1,\n",
            "  \"use_cache\": true,\n",
            "  \"vocab_size\": 250002\n",
            "}\n",
            "\n",
            "[INFO|tokenization_utils_base.py:1802] 2023-02-04 20:16:53,521 >> loading file sentencepiece.bpe.model from cache at /root/.cache/huggingface/hub/models--masakhane--afroxlmr-large-ner-masakhaner-1.0_2.0/snapshots/c641472a193792d79130711e1d43ae1de2c156f3/sentencepiece.bpe.model\n",
            "[INFO|tokenization_utils_base.py:1802] 2023-02-04 20:16:53,521 >> loading file tokenizer.json from cache at /root/.cache/huggingface/hub/models--masakhane--afroxlmr-large-ner-masakhaner-1.0_2.0/snapshots/c641472a193792d79130711e1d43ae1de2c156f3/tokenizer.json\n",
            "[INFO|tokenization_utils_base.py:1802] 2023-02-04 20:16:53,521 >> loading file added_tokens.json from cache at None\n",
            "[INFO|tokenization_utils_base.py:1802] 2023-02-04 20:16:53,521 >> loading file special_tokens_map.json from cache at /root/.cache/huggingface/hub/models--masakhane--afroxlmr-large-ner-masakhaner-1.0_2.0/snapshots/c641472a193792d79130711e1d43ae1de2c156f3/special_tokens_map.json\n",
            "[INFO|tokenization_utils_base.py:1802] 2023-02-04 20:16:53,521 >> loading file tokenizer_config.json from cache at /root/.cache/huggingface/hub/models--masakhane--afroxlmr-large-ner-masakhaner-1.0_2.0/snapshots/c641472a193792d79130711e1d43ae1de2c156f3/tokenizer_config.json\n",
            "[INFO|modeling_utils.py:2275] 2023-02-04 20:16:54,062 >> loading weights file pytorch_model.bin from cache at /root/.cache/huggingface/hub/models--masakhane--afroxlmr-large-ner-masakhaner-1.0_2.0/snapshots/c641472a193792d79130711e1d43ae1de2c156f3/pytorch_model.bin\n",
            "[WARNING|modeling_utils.py:2847] 2023-02-04 20:16:59,812 >> Some weights of the model checkpoint at masakhane/afroxlmr-large-ner-masakhaner-1.0_2.0 were not used when initializing XLMRobertaForSequenceClassification: ['classifier.bias', 'classifier.weight']\n",
            "- This IS expected if you are initializing XLMRobertaForSequenceClassification from the checkpoint of a model trained on another task or with another architecture (e.g. initializing a BertForSequenceClassification model from a BertForPreTraining model).\n",
            "- This IS NOT expected if you are initializing XLMRobertaForSequenceClassification from the checkpoint of a model that you expect to be exactly identical (initializing a BertForSequenceClassification model from a BertForSequenceClassification model).\n",
            "[WARNING|modeling_utils.py:2859] 2023-02-04 20:16:59,812 >> Some weights of XLMRobertaForSequenceClassification were not initialized from the model checkpoint at masakhane/afroxlmr-large-ner-masakhaner-1.0_2.0 and are newly initialized: ['classifier.dense.weight', 'classifier.dense.bias', 'classifier.out_proj.bias', 'classifier.out_proj.weight']\n",
            "You should probably TRAIN this model on a down-stream task to be able to use it for predictions and inference.\n",
            "Running tokenizer on train dataset: 100% 64/64 [00:03<00:00, 16.61ba/s]\n",
            "INFO:__main__:Sample 41905 of the training set: {'text': 'اللهم بنكيران أو لا شي واحد شفار', 'label': 2, '__index_level_0__': 41905, 'input_ids': [0, 152751, 2567, 972, 66087, 2000, 1327, 5319, 11574, 157385, 835, 2, 1, 1, 1, 1, 1, 1, 1, 1, 1, 1, 1, 1, 1, 1, 1, 1, 1, 1, 1, 1, 1, 1, 1, 1, 1, 1, 1, 1, 1, 1, 1, 1, 1, 1, 1, 1, 1, 1, 1, 1, 1, 1, 1, 1, 1, 1, 1, 1, 1, 1, 1, 1, 1, 1, 1, 1, 1, 1, 1, 1, 1, 1, 1, 1, 1, 1, 1, 1, 1, 1, 1, 1, 1, 1, 1, 1, 1, 1, 1, 1, 1, 1, 1, 1, 1, 1, 1, 1, 1, 1, 1, 1, 1, 1, 1, 1, 1, 1, 1, 1, 1, 1, 1, 1, 1, 1, 1, 1, 1, 1, 1, 1, 1, 1, 1, 1], 'attention_mask': [1, 1, 1, 1, 1, 1, 1, 1, 1, 1, 1, 1, 0, 0, 0, 0, 0, 0, 0, 0, 0, 0, 0, 0, 0, 0, 0, 0, 0, 0, 0, 0, 0, 0, 0, 0, 0, 0, 0, 0, 0, 0, 0, 0, 0, 0, 0, 0, 0, 0, 0, 0, 0, 0, 0, 0, 0, 0, 0, 0, 0, 0, 0, 0, 0, 0, 0, 0, 0, 0, 0, 0, 0, 0, 0, 0, 0, 0, 0, 0, 0, 0, 0, 0, 0, 0, 0, 0, 0, 0, 0, 0, 0, 0, 0, 0, 0, 0, 0, 0, 0, 0, 0, 0, 0, 0, 0, 0, 0, 0, 0, 0, 0, 0, 0, 0, 0, 0, 0, 0, 0, 0, 0, 0, 0, 0, 0, 0]}.\n",
            "INFO:__main__:Sample 7296 of the training set: {'text': 'አሜን ; የሰላም ቀን ፣ የሰላም ዘመን ይሁንልን ።', 'label': 2, '__index_level_0__': 7296, 'input_ids': [0, 2350, 99914, 2819, 210139, 17733, 62778, 210139, 48425, 69751, 48440, 42192, 2, 1, 1, 1, 1, 1, 1, 1, 1, 1, 1, 1, 1, 1, 1, 1, 1, 1, 1, 1, 1, 1, 1, 1, 1, 1, 1, 1, 1, 1, 1, 1, 1, 1, 1, 1, 1, 1, 1, 1, 1, 1, 1, 1, 1, 1, 1, 1, 1, 1, 1, 1, 1, 1, 1, 1, 1, 1, 1, 1, 1, 1, 1, 1, 1, 1, 1, 1, 1, 1, 1, 1, 1, 1, 1, 1, 1, 1, 1, 1, 1, 1, 1, 1, 1, 1, 1, 1, 1, 1, 1, 1, 1, 1, 1, 1, 1, 1, 1, 1, 1, 1, 1, 1, 1, 1, 1, 1, 1, 1, 1, 1, 1, 1, 1, 1], 'attention_mask': [1, 1, 1, 1, 1, 1, 1, 1, 1, 1, 1, 1, 1, 0, 0, 0, 0, 0, 0, 0, 0, 0, 0, 0, 0, 0, 0, 0, 0, 0, 0, 0, 0, 0, 0, 0, 0, 0, 0, 0, 0, 0, 0, 0, 0, 0, 0, 0, 0, 0, 0, 0, 0, 0, 0, 0, 0, 0, 0, 0, 0, 0, 0, 0, 0, 0, 0, 0, 0, 0, 0, 0, 0, 0, 0, 0, 0, 0, 0, 0, 0, 0, 0, 0, 0, 0, 0, 0, 0, 0, 0, 0, 0, 0, 0, 0, 0, 0, 0, 0, 0, 0, 0, 0, 0, 0, 0, 0, 0, 0, 0, 0, 0, 0, 0, 0, 0, 0, 0, 0, 0, 0, 0, 0, 0, 0, 0, 0]}.\n",
            "INFO:__main__:Sample 1639 of the training set: {'text': \"RT @user: @user e seun eyin agba, agba ko ni tan l'orile. E ku aigbagbe.\", 'label': 2, '__index_level_0__': 1639, 'input_ids': [0, 27389, 1374, 65918, 12, 1374, 65918, 28, 81710, 28, 9298, 1377, 402, 4, 1377, 402, 298, 300, 2197, 96, 25, 31, 15778, 5, 241, 228, 25241, 26015, 372, 5, 2, 1, 1, 1, 1, 1, 1, 1, 1, 1, 1, 1, 1, 1, 1, 1, 1, 1, 1, 1, 1, 1, 1, 1, 1, 1, 1, 1, 1, 1, 1, 1, 1, 1, 1, 1, 1, 1, 1, 1, 1, 1, 1, 1, 1, 1, 1, 1, 1, 1, 1, 1, 1, 1, 1, 1, 1, 1, 1, 1, 1, 1, 1, 1, 1, 1, 1, 1, 1, 1, 1, 1, 1, 1, 1, 1, 1, 1, 1, 1, 1, 1, 1, 1, 1, 1, 1, 1, 1, 1, 1, 1, 1, 1, 1, 1, 1, 1], 'attention_mask': [1, 1, 1, 1, 1, 1, 1, 1, 1, 1, 1, 1, 1, 1, 1, 1, 1, 1, 1, 1, 1, 1, 1, 1, 1, 1, 1, 1, 1, 1, 1, 0, 0, 0, 0, 0, 0, 0, 0, 0, 0, 0, 0, 0, 0, 0, 0, 0, 0, 0, 0, 0, 0, 0, 0, 0, 0, 0, 0, 0, 0, 0, 0, 0, 0, 0, 0, 0, 0, 0, 0, 0, 0, 0, 0, 0, 0, 0, 0, 0, 0, 0, 0, 0, 0, 0, 0, 0, 0, 0, 0, 0, 0, 0, 0, 0, 0, 0, 0, 0, 0, 0, 0, 0, 0, 0, 0, 0, 0, 0, 0, 0, 0, 0, 0, 0, 0, 0, 0, 0, 0, 0, 0, 0, 0, 0, 0, 0]}.\n",
            "Running tokenizer on validation dataset: 100% 28/28 [00:01<00:00, 15.62ba/s]\n",
            "[INFO|trainer.py:710] 2023-02-04 20:17:08,990 >> The following columns in the training set don't have a corresponding argument in `XLMRobertaForSequenceClassification.forward` and have been ignored: __index_level_0__, text. If __index_level_0__, text are not expected by `XLMRobertaForSequenceClassification.forward`,  you can safely ignore this message.\n",
            "/usr/local/lib/python3.8/dist-packages/transformers/optimization.py:306: FutureWarning: This implementation of AdamW is deprecated and will be removed in a future version. Use the PyTorch implementation torch.optim.AdamW instead, or set `no_deprecation_warning=True` to disable this warning\n",
            "  warnings.warn(\n",
            "[INFO|trainer.py:1650] 2023-02-04 20:17:08,999 >> ***** Running training *****\n",
            "[INFO|trainer.py:1651] 2023-02-04 20:17:08,999 >>   Num examples = 63693\n",
            "[INFO|trainer.py:1652] 2023-02-04 20:17:08,999 >>   Num Epochs = 5\n",
            "[INFO|trainer.py:1653] 2023-02-04 20:17:08,999 >>   Instantaneous batch size per device = 4\n",
            "[INFO|trainer.py:1654] 2023-02-04 20:17:08,999 >>   Total train batch size (w. parallel, distributed & accumulation) = 4\n",
            "[INFO|trainer.py:1655] 2023-02-04 20:17:08,999 >>   Gradient Accumulation steps = 1\n",
            "[INFO|trainer.py:1656] 2023-02-04 20:17:08,999 >>   Total optimization steps = 79620\n",
            "[INFO|trainer.py:1657] 2023-02-04 20:17:09,000 >>   Number of trainable parameters = 559893507\n",
            "{'loss': 1.001, 'learning_rate': 9.93720170811354e-06, 'epoch': 0.03}\n",
            "{'loss': 0.9385, 'learning_rate': 9.874403416227079e-06, 'epoch': 0.06}\n",
            "{'loss': 0.8625, 'learning_rate': 9.811605124340618e-06, 'epoch': 0.09}\n",
            "{'loss': 0.8609, 'learning_rate': 9.748806832454159e-06, 'epoch': 0.13}\n",
            "{'loss': 0.8354, 'learning_rate': 9.686008540567698e-06, 'epoch': 0.16}\n",
            "{'loss': 0.826, 'learning_rate': 9.623210248681237e-06, 'epoch': 0.19}\n",
            "{'loss': 0.8623, 'learning_rate': 9.560411956794776e-06, 'epoch': 0.22}\n",
            "{'loss': 0.8103, 'learning_rate': 9.497613664908315e-06, 'epoch': 0.25}\n",
            "{'loss': 0.8086, 'learning_rate': 9.434815373021856e-06, 'epoch': 0.28}\n",
            "{'loss': 0.8037, 'learning_rate': 9.372017081135395e-06, 'epoch': 0.31}\n",
            "{'loss': 0.7907, 'learning_rate': 9.309218789248932e-06, 'epoch': 0.35}\n",
            "{'loss': 0.8008, 'learning_rate': 9.246420497362473e-06, 'epoch': 0.38}\n",
            "{'loss': 0.7602, 'learning_rate': 9.183622205476012e-06, 'epoch': 0.41}\n",
            "{'loss': 0.7831, 'learning_rate': 9.12082391358955e-06, 'epoch': 0.44}\n",
            "{'loss': 0.7421, 'learning_rate': 9.05802562170309e-06, 'epoch': 0.47}\n",
            "{'loss': 0.7637, 'learning_rate': 8.995227329816629e-06, 'epoch': 0.5}\n",
            "{'loss': 0.7496, 'learning_rate': 8.93242903793017e-06, 'epoch': 0.53}\n",
            "{'loss': 0.7266, 'learning_rate': 8.869630746043709e-06, 'epoch': 0.57}\n",
            "{'loss': 0.7593, 'learning_rate': 8.806832454157248e-06, 'epoch': 0.6}\n",
            "{'loss': 0.7621, 'learning_rate': 8.744034162270787e-06, 'epoch': 0.63}\n",
            "{'loss': 0.7512, 'learning_rate': 8.681235870384326e-06, 'epoch': 0.66}\n",
            "{'loss': 0.7485, 'learning_rate': 8.618437578497867e-06, 'epoch': 0.69}\n",
            "{'loss': 0.7172, 'learning_rate': 8.555639286611404e-06, 'epoch': 0.72}\n",
            "{'loss': 0.7147, 'learning_rate': 8.492840994724945e-06, 'epoch': 0.75}\n",
            "{'loss': 0.7166, 'learning_rate': 8.430042702838484e-06, 'epoch': 0.78}\n",
            "{'loss': 0.7306, 'learning_rate': 8.367244410952023e-06, 'epoch': 0.82}\n",
            "{'loss': 0.7496, 'learning_rate': 8.304446119065562e-06, 'epoch': 0.85}\n",
            "{'loss': 0.741, 'learning_rate': 8.2416478271791e-06, 'epoch': 0.88}\n",
            "{'loss': 0.7647, 'learning_rate': 8.178849535292642e-06, 'epoch': 0.91}\n",
            "{'loss': 0.7117, 'learning_rate': 8.11605124340618e-06, 'epoch': 0.94}\n",
            "{'loss': 0.729, 'learning_rate': 8.05325295151972e-06, 'epoch': 0.97}\n",
            "{'loss': 0.697, 'learning_rate': 7.990454659633259e-06, 'epoch': 1.0}\n",
            "{'loss': 0.6797, 'learning_rate': 7.927656367746798e-06, 'epoch': 1.04}\n",
            "{'loss': 0.6508, 'learning_rate': 7.864858075860338e-06, 'epoch': 1.07}\n",
            "{'loss': 0.7175, 'learning_rate': 7.802059783973876e-06, 'epoch': 1.1}\n",
            "{'loss': 0.6115, 'learning_rate': 7.739261492087415e-06, 'epoch': 1.13}\n",
            "{'loss': 0.7003, 'learning_rate': 7.676463200200956e-06, 'epoch': 1.16}\n",
            "{'loss': 0.6917, 'learning_rate': 7.613664908314494e-06, 'epoch': 1.19}\n",
            "{'loss': 0.6807, 'learning_rate': 7.5508666164280346e-06, 'epoch': 1.22}\n",
            "{'loss': 0.6924, 'learning_rate': 7.488068324541573e-06, 'epoch': 1.26}\n",
            "{'loss': 0.7193, 'learning_rate': 7.425270032655112e-06, 'epoch': 1.29}\n",
            "{'loss': 0.7158, 'learning_rate': 7.362471740768652e-06, 'epoch': 1.32}\n",
            "{'loss': 0.6949, 'learning_rate': 7.299673448882191e-06, 'epoch': 1.35}\n",
            "{'loss': 0.7044, 'learning_rate': 7.236875156995731e-06, 'epoch': 1.38}\n",
            "{'loss': 0.6328, 'learning_rate': 7.17407686510927e-06, 'epoch': 1.41}\n",
            "{'loss': 0.6651, 'learning_rate': 7.111278573222809e-06, 'epoch': 1.44}\n",
            "{'loss': 0.6348, 'learning_rate': 7.048480281336349e-06, 'epoch': 1.48}\n",
            "{'loss': 0.7194, 'learning_rate': 6.985681989449888e-06, 'epoch': 1.51}\n",
            "{'loss': 0.6504, 'learning_rate': 6.9228836975634275e-06, 'epoch': 1.54}\n",
            "{'loss': 0.6477, 'learning_rate': 6.860085405676966e-06, 'epoch': 1.57}\n",
            "{'loss': 0.6626, 'learning_rate': 6.797287113790505e-06, 'epoch': 1.6}\n",
            "{'loss': 0.6815, 'learning_rate': 6.734488821904045e-06, 'epoch': 1.63}\n",
            "{'loss': 0.6898, 'learning_rate': 6.671690530017584e-06, 'epoch': 1.66}\n",
            "{'loss': 0.6542, 'learning_rate': 6.608892238131124e-06, 'epoch': 1.7}\n",
            "{'loss': 0.6195, 'learning_rate': 6.546093946244663e-06, 'epoch': 1.73}\n",
            "{'loss': 0.6401, 'learning_rate': 6.483295654358202e-06, 'epoch': 1.76}\n",
            "{'loss': 0.6946, 'learning_rate': 6.420497362471742e-06, 'epoch': 1.79}\n",
            "{'loss': 0.6313, 'learning_rate': 6.357699070585281e-06, 'epoch': 1.82}\n",
            "{'loss': 0.6625, 'learning_rate': 6.2949007786988205e-06, 'epoch': 1.85}\n",
            "{'loss': 0.6554, 'learning_rate': 6.23210248681236e-06, 'epoch': 1.88}\n",
            "{'loss': 0.7192, 'learning_rate': 6.169304194925898e-06, 'epoch': 1.92}\n",
            "{'loss': 0.6815, 'learning_rate': 6.106505903039438e-06, 'epoch': 1.95}\n",
            "{'loss': 0.6654, 'learning_rate': 6.043707611152977e-06, 'epoch': 1.98}\n",
            "{'loss': 0.6286, 'learning_rate': 5.980909319266517e-06, 'epoch': 2.01}\n",
            "{'loss': 0.6001, 'learning_rate': 5.918111027380056e-06, 'epoch': 2.04}\n",
            "{'loss': 0.5894, 'learning_rate': 5.855312735493595e-06, 'epoch': 2.07}\n",
            "{'loss': 0.5911, 'learning_rate': 5.792514443607135e-06, 'epoch': 2.1}\n",
            "{'loss': 0.6541, 'learning_rate': 5.729716151720674e-06, 'epoch': 2.14}\n",
            "{'loss': 0.5976, 'learning_rate': 5.6669178598342135e-06, 'epoch': 2.17}\n",
            "{'loss': 0.5969, 'learning_rate': 5.6041195679477526e-06, 'epoch': 2.2}\n",
            "{'loss': 0.6378, 'learning_rate': 5.541321276061291e-06, 'epoch': 2.23}\n",
            "{'loss': 0.6478, 'learning_rate': 5.4785229841748315e-06, 'epoch': 2.26}\n",
            "{'loss': 0.6136, 'learning_rate': 5.41572469228837e-06, 'epoch': 2.29}\n",
            "{'loss': 0.6163, 'learning_rate': 5.35292640040191e-06, 'epoch': 2.32}\n",
            "{'loss': 0.6068, 'learning_rate': 5.290128108515449e-06, 'epoch': 2.35}\n",
            "{'loss': 0.6608, 'learning_rate': 5.227329816628988e-06, 'epoch': 2.39}\n",
            "{'loss': 0.6151, 'learning_rate': 5.1645315247425276e-06, 'epoch': 2.42}\n",
            "{'loss': 0.6671, 'learning_rate': 5.101733232856067e-06, 'epoch': 2.45}\n",
            "{'loss': 0.5999, 'learning_rate': 5.0389349409696065e-06, 'epoch': 2.48}\n",
            "{'loss': 0.5993, 'learning_rate': 4.9761366490831456e-06, 'epoch': 2.51}\n",
            "{'loss': 0.6633, 'learning_rate': 4.913338357196685e-06, 'epoch': 2.54}\n",
            "{'loss': 0.5761, 'learning_rate': 4.8505400653102245e-06, 'epoch': 2.57}\n",
            "{'loss': 0.6241, 'learning_rate': 4.787741773423763e-06, 'epoch': 2.61}\n",
            "{'loss': 0.6421, 'learning_rate': 4.7249434815373026e-06, 'epoch': 2.64}\n",
            "{'loss': 0.6004, 'learning_rate': 4.662145189650842e-06, 'epoch': 2.67}\n",
            "{'loss': 0.5864, 'learning_rate': 4.5993468977643815e-06, 'epoch': 2.7}\n",
            "{'loss': 0.6042, 'learning_rate': 4.5365486058779206e-06, 'epoch': 2.73}\n",
            "{'loss': 0.6402, 'learning_rate': 4.47375031399146e-06, 'epoch': 2.76}\n",
            "{'loss': 0.5724, 'learning_rate': 4.410952022104999e-06, 'epoch': 2.79}\n",
            "{'loss': 0.5781, 'learning_rate': 4.3481537302185385e-06, 'epoch': 2.83}\n",
            "{'loss': 0.5937, 'learning_rate': 4.285355438332078e-06, 'epoch': 2.86}\n",
            "{'loss': 0.6208, 'learning_rate': 4.2225571464456175e-06, 'epoch': 2.89}\n",
            "{'loss': 0.6177, 'learning_rate': 4.159758854559156e-06, 'epoch': 2.92}\n",
            "{'loss': 0.6153, 'learning_rate': 4.0969605626726956e-06, 'epoch': 2.95}\n",
            "{'loss': 0.6417, 'learning_rate': 4.034162270786235e-06, 'epoch': 2.98}\n",
            "{'loss': 0.519, 'learning_rate': 3.9713639788997745e-06, 'epoch': 3.01}\n",
            "{'loss': 0.438, 'learning_rate': 3.9085656870133135e-06, 'epoch': 3.05}\n",
            "{'loss': 0.4708, 'learning_rate': 3.845767395126853e-06, 'epoch': 3.08}\n",
            "{'loss': 0.5521, 'learning_rate': 3.782969103240392e-06, 'epoch': 3.11}\n",
            "{'loss': 0.5037, 'learning_rate': 3.7201708113539315e-06, 'epoch': 3.14}\n",
            "{'loss': 0.4846, 'learning_rate': 3.657372519467471e-06, 'epoch': 3.17}\n",
            "{'loss': 0.4282, 'learning_rate': 3.5945742275810105e-06, 'epoch': 3.2}\n",
            "{'loss': 0.4561, 'learning_rate': 3.531775935694549e-06, 'epoch': 3.23}\n",
            "{'loss': 0.5144, 'learning_rate': 3.4689776438080885e-06, 'epoch': 3.27}\n",
            "{'loss': 0.5231, 'learning_rate': 3.406179351921628e-06, 'epoch': 3.3}\n",
            "{'loss': 0.4907, 'learning_rate': 3.3433810600351675e-06, 'epoch': 3.33}\n",
            "{'loss': 0.4933, 'learning_rate': 3.280582768148707e-06, 'epoch': 3.36}\n",
            "{'loss': 0.5237, 'learning_rate': 3.2177844762622456e-06, 'epoch': 3.39}\n",
            "{'loss': 0.5353, 'learning_rate': 3.154986184375785e-06, 'epoch': 3.42}\n",
            "{'loss': 0.5197, 'learning_rate': 3.0921878924893245e-06, 'epoch': 3.45}\n",
            "{'loss': 0.5, 'learning_rate': 3.029389600602864e-06, 'epoch': 3.49}\n",
            "{'loss': 0.5102, 'learning_rate': 2.9665913087164034e-06, 'epoch': 3.52}\n",
            "{'loss': 0.4726, 'learning_rate': 2.903793016829942e-06, 'epoch': 3.55}\n",
            "{'loss': 0.4737, 'learning_rate': 2.8409947249434815e-06, 'epoch': 3.58}\n",
            "{'loss': 0.4441, 'learning_rate': 2.778196433057021e-06, 'epoch': 3.61}\n",
            "{'loss': 0.4767, 'learning_rate': 2.7153981411705605e-06, 'epoch': 3.64}\n",
            "{'loss': 0.5222, 'learning_rate': 2.6525998492841e-06, 'epoch': 3.67}\n",
            "{'loss': 0.4809, 'learning_rate': 2.5898015573976386e-06, 'epoch': 3.71}\n",
            "{'loss': 0.4805, 'learning_rate': 2.527003265511178e-06, 'epoch': 3.74}\n",
            "{'loss': 0.4775, 'learning_rate': 2.4642049736247175e-06, 'epoch': 3.77}\n",
            "{'loss': 0.4827, 'learning_rate': 2.401406681738257e-06, 'epoch': 3.8}\n",
            "{'loss': 0.5147, 'learning_rate': 2.338608389851796e-06, 'epoch': 3.83}\n",
            "{'loss': 0.5023, 'learning_rate': 2.2758100979653355e-06, 'epoch': 3.86}\n",
            "{'loss': 0.5318, 'learning_rate': 2.213011806078875e-06, 'epoch': 3.89}\n",
            "{'loss': 0.4767, 'learning_rate': 2.150213514192414e-06, 'epoch': 3.92}\n",
            "{'loss': 0.5055, 'learning_rate': 2.0874152223059535e-06, 'epoch': 3.96}\n",
            "{'loss': 0.4985, 'learning_rate': 2.0246169304194925e-06, 'epoch': 3.99}\n",
            "{'loss': 0.431, 'learning_rate': 1.961818638533032e-06, 'epoch': 4.02}\n",
            "{'loss': 0.3918, 'learning_rate': 1.8990203466465714e-06, 'epoch': 4.05}\n",
            "{'loss': 0.3954, 'learning_rate': 1.8362220547601107e-06, 'epoch': 4.08}\n",
            "{'loss': 0.3463, 'learning_rate': 1.77342376287365e-06, 'epoch': 4.11}\n",
            "{'loss': 0.3423, 'learning_rate': 1.7106254709871892e-06, 'epoch': 4.14}\n",
            "{'loss': 0.4029, 'learning_rate': 1.6478271791007287e-06, 'epoch': 4.18}\n",
            "{'loss': 0.3916, 'learning_rate': 1.585028887214268e-06, 'epoch': 4.21}\n",
            "{'loss': 0.365, 'learning_rate': 1.5222305953278072e-06, 'epoch': 4.24}\n",
            "{'loss': 0.3398, 'learning_rate': 1.4594323034413467e-06, 'epoch': 4.27}\n",
            "{'loss': 0.3847, 'learning_rate': 1.3966340115548857e-06, 'epoch': 4.3}\n",
            "{'loss': 0.3544, 'learning_rate': 1.3338357196684252e-06, 'epoch': 4.33}\n",
            "{'loss': 0.3182, 'learning_rate': 1.2710374277819646e-06, 'epoch': 4.36}\n",
            "{'loss': 0.3676, 'learning_rate': 1.2082391358955037e-06, 'epoch': 4.4}\n",
            "{'loss': 0.4338, 'learning_rate': 1.1454408440090431e-06, 'epoch': 4.43}\n",
            "{'loss': 0.3077, 'learning_rate': 1.0826425521225824e-06, 'epoch': 4.46}\n",
            "{'loss': 0.4264, 'learning_rate': 1.0198442602361217e-06, 'epoch': 4.49}\n",
            "{'loss': 0.3594, 'learning_rate': 9.57045968349661e-07, 'epoch': 4.52}\n",
            "{'loss': 0.3617, 'learning_rate': 8.942476764632002e-07, 'epoch': 4.55}\n",
            "{'loss': 0.3591, 'learning_rate': 8.314493845767396e-07, 'epoch': 4.58}\n",
            "{'loss': 0.3787, 'learning_rate': 7.686510926902789e-07, 'epoch': 4.62}\n",
            "{'loss': 0.3405, 'learning_rate': 7.058528008038182e-07, 'epoch': 4.65}\n",
            "{'loss': 0.4077, 'learning_rate': 6.430545089173575e-07, 'epoch': 4.68}\n",
            "{'loss': 0.4395, 'learning_rate': 5.802562170308968e-07, 'epoch': 4.71}\n",
            "{'loss': 0.3713, 'learning_rate': 5.174579251444361e-07, 'epoch': 4.74}\n",
            "{'loss': 0.363, 'learning_rate': 4.5465963325797544e-07, 'epoch': 4.77}\n",
            "{'loss': 0.3445, 'learning_rate': 3.918613413715147e-07, 'epoch': 4.8}\n",
            "{'loss': 0.3142, 'learning_rate': 3.2906304948505406e-07, 'epoch': 4.84}\n",
            "{'loss': 0.4048, 'learning_rate': 2.662647575985933e-07, 'epoch': 4.87}\n",
            "{'loss': 0.35, 'learning_rate': 2.0346646571213265e-07, 'epoch': 4.9}\n",
            "{'loss': 0.3257, 'learning_rate': 1.4066817382567196e-07, 'epoch': 4.93}\n",
            "{'loss': 0.369, 'learning_rate': 7.786988193921127e-08, 'epoch': 4.96}\n",
            "{'loss': 0.3504, 'learning_rate': 1.5071590052750568e-08, 'epoch': 4.99}\n",
            "100% 79620/79620 [11:31:15<00:00,  2.17it/s][INFO|trainer.py:1901] 2023-02-05 07:48:24,213 >> \n",
            "\n",
            "Training completed. Do not forget to share your model on huggingface.co/models =)\n",
            "\n",
            "\n",
            "{'train_runtime': 41475.2193, 'train_samples_per_second': 7.678, 'train_steps_per_second': 1.92, 'train_loss': 0.586199953615351, 'epoch': 5.0}\n",
            "100% 79620/79620 [11:31:15<00:00,  1.92it/s]\n",
            "[INFO|trainer.py:2709] 2023-02-05 07:48:24,225 >> Saving model checkpoint to /content/drive/MyDrive/afrisent-semeval-2023/models/multilingual_no_test3\n",
            "[INFO|configuration_utils.py:453] 2023-02-05 07:48:24,228 >> Configuration saved in /content/drive/MyDrive/afrisent-semeval-2023/models/multilingual_no_test3/config.json\n",
            "[INFO|modeling_utils.py:1704] 2023-02-05 07:48:30,352 >> Model weights saved in /content/drive/MyDrive/afrisent-semeval-2023/models/multilingual_no_test3/pytorch_model.bin\n",
            "[INFO|tokenization_utils_base.py:2160] 2023-02-05 07:48:31,978 >> tokenizer config file saved in /content/drive/MyDrive/afrisent-semeval-2023/models/multilingual_no_test3/tokenizer_config.json\n",
            "[INFO|tokenization_utils_base.py:2167] 2023-02-05 07:48:31,981 >> Special tokens file saved in /content/drive/MyDrive/afrisent-semeval-2023/models/multilingual_no_test3/special_tokens_map.json\n",
            "***** train metrics *****\n",
            "  epoch                    =         5.0\n",
            "  train_loss               =      0.5862\n",
            "  train_runtime            = 11:31:15.21\n",
            "  train_samples            =       63693\n",
            "  train_samples_per_second =       7.678\n",
            "  train_steps_per_second   =        1.92\n",
            "INFO:__main__:*** Evaluate ***\n",
            "[INFO|trainer.py:710] 2023-02-05 07:48:37,269 >> The following columns in the evaluation set don't have a corresponding argument in `XLMRobertaForSequenceClassification.forward` and have been ignored: __index_level_0__, text. If __index_level_0__, text are not expected by `XLMRobertaForSequenceClassification.forward`,  you can safely ignore this message.\n",
            "[INFO|trainer.py:2964] 2023-02-05 07:48:37,271 >> ***** Running Evaluation *****\n",
            "[INFO|trainer.py:2966] 2023-02-05 07:48:37,271 >>   Num examples = 27298\n",
            "[INFO|trainer.py:2969] 2023-02-05 07:48:37,271 >>   Batch size = 8\n",
            "100% 3413/3413 [11:09<00:00,  5.09it/s]\n",
            "***** eval metrics *****\n",
            "  epoch                   =        5.0\n",
            "  eval_accuracy           =     0.7839\n",
            "  eval_loss               =     1.5046\n",
            "  eval_runtime            = 0:11:10.12\n",
            "  eval_samples            =      27298\n",
            "  eval_samples_per_second =     40.736\n",
            "  eval_steps_per_second   =      5.093\n"
          ]
        }
      ],
      "source": [
        "DATA_DIR = os.path.join(TRAINING_DATA_DIR, 'splitted-train-dev', 'multilingual')\n",
        "OUTPUT_DIR = os.path.join(PROJECT_DIR, 'models', 'multilingual' + '_no_test3')\n",
        "\n",
        "!CUDA_VISIBLE_DEVICES=0 python starter_kit/run_textclass.py \\\n",
        "  --model_name_or_path {MODEL_NAME_OR_PATH} \\\n",
        "  --data_dir {DATA_DIR} \\\n",
        "  --do_train \\\n",
        "  --do_eval \\\n",
        "  --per_device_train_batch_size {BATCH_SIZE} \\\n",
        "  --learning_rate {LEARNING_RATE} \\\n",
        "  --num_train_epochs {NUMBER_OF_TRAINING_EPOCHS} \\\n",
        "  --max_seq_length {MAXIMUM_SEQUENCE_LENGTH} \\\n",
        "  --overwrite_output_dir yes \\\n",
        "  --output_dir {OUTPUT_DIR} \\\n",
        "  --save_steps {SAVE_STEPS} "
      ]
    },
    {
      "cell_type": "markdown",
      "metadata": {
        "id": "_3I2VJlCMJTN"
      },
      "source": [
        "Now, you can observe, there is evalidation metrics (e.g., accuracy, loss etc) since we are evaluating our model performance on the validation set we created from the \n",
        "training data.\n",
        "\n",
        "\n",
        "\n",
        "\n"
      ]
    },
    {
      "cell_type": "markdown",
      "metadata": {
        "id": "jW99ncOhhDEm"
      },
      "source": [
        "###iii. Training with Train, Dev and Test sets"
      ]
    },
    {
      "cell_type": "code",
      "execution_count": null,
      "metadata": {
        "colab": {
          "base_uri": "https://localhost:8080/"
        },
        "id": "zaVssq7a1uwk",
        "outputId": "b76fc4bd-c4b9-4bbb-ddf7-8e991056cb26"
      },
      "outputs": [
        {
          "name": "stdout",
          "output_type": "stream",
          "text": [
            "WARNING:__main__:Process rank: -1, device: cuda:0, n_gpu: 1distributed training: False, 16-bits training: False\n",
            "INFO:__main__:Training/evaluation parameters TrainingArguments(\n",
            "_n_gpu=1,\n",
            "adafactor=False,\n",
            "adam_beta1=0.9,\n",
            "adam_beta2=0.999,\n",
            "adam_epsilon=1e-08,\n",
            "auto_find_batch_size=False,\n",
            "bf16=False,\n",
            "bf16_full_eval=False,\n",
            "data_seed=None,\n",
            "dataloader_drop_last=False,\n",
            "dataloader_num_workers=0,\n",
            "dataloader_pin_memory=True,\n",
            "ddp_bucket_cap_mb=None,\n",
            "ddp_find_unused_parameters=None,\n",
            "ddp_timeout=1800,\n",
            "debug=[],\n",
            "deepspeed=None,\n",
            "disable_tqdm=False,\n",
            "do_eval=True,\n",
            "do_predict=True,\n",
            "do_train=True,\n",
            "eval_accumulation_steps=None,\n",
            "eval_delay=0,\n",
            "eval_steps=None,\n",
            "evaluation_strategy=no,\n",
            "fp16=False,\n",
            "fp16_backend=auto,\n",
            "fp16_full_eval=False,\n",
            "fp16_opt_level=O1,\n",
            "fsdp=[],\n",
            "fsdp_min_num_params=0,\n",
            "fsdp_transformer_layer_cls_to_wrap=None,\n",
            "full_determinism=False,\n",
            "gradient_accumulation_steps=1,\n",
            "gradient_checkpointing=False,\n",
            "greater_is_better=None,\n",
            "group_by_length=False,\n",
            "half_precision_backend=auto,\n",
            "hub_model_id=None,\n",
            "hub_private_repo=False,\n",
            "hub_strategy=every_save,\n",
            "hub_token=<HUB_TOKEN>,\n",
            "ignore_data_skip=False,\n",
            "include_inputs_for_metrics=False,\n",
            "jit_mode_eval=False,\n",
            "label_names=None,\n",
            "label_smoothing_factor=0.0,\n",
            "learning_rate=128.0,\n",
            "length_column_name=length,\n",
            "load_best_model_at_end=False,\n",
            "local_rank=-1,\n",
            "log_level=passive,\n",
            "log_level_replica=passive,\n",
            "log_on_each_node=True,\n",
            "logging_dir=/content/drive/MyDrive/afrisent-semeval-2023/models/multilingual/runs/Jan19_21-53-39_af5e1b988937,\n",
            "logging_first_step=False,\n",
            "logging_nan_inf_filter=True,\n",
            "logging_steps=500,\n",
            "logging_strategy=steps,\n",
            "lr_scheduler_type=linear,\n",
            "max_grad_norm=1.0,\n",
            "max_steps=-1,\n",
            "metric_for_best_model=None,\n",
            "mp_parameters=,\n",
            "no_cuda=False,\n",
            "num_train_epochs=5.0,\n",
            "optim=adamw_hf,\n",
            "optim_args=None,\n",
            "output_dir=/content/drive/MyDrive/afrisent-semeval-2023/models/multilingual,\n",
            "overwrite_output_dir=False,\n",
            "past_index=-1,\n",
            "per_device_eval_batch_size=8,\n",
            "per_device_train_batch_size=32,\n",
            "prediction_loss_only=False,\n",
            "push_to_hub=False,\n",
            "push_to_hub_model_id=None,\n",
            "push_to_hub_organization=None,\n",
            "push_to_hub_token=<PUSH_TO_HUB_TOKEN>,\n",
            "ray_scope=last,\n",
            "remove_unused_columns=True,\n",
            "report_to=['tensorboard'],\n",
            "resume_from_checkpoint=None,\n",
            "run_name=/content/drive/MyDrive/afrisent-semeval-2023/models/multilingual,\n",
            "save_on_each_node=False,\n",
            "save_steps=-1,\n",
            "save_strategy=steps,\n",
            "save_total_limit=None,\n",
            "seed=42,\n",
            "sharded_ddp=[],\n",
            "skip_memory_metrics=True,\n",
            "tf32=None,\n",
            "torchdynamo=None,\n",
            "tpu_metrics_debug=False,\n",
            "tpu_num_cores=None,\n",
            "use_ipex=False,\n",
            "use_legacy_prediction_loop=False,\n",
            "use_mps_device=False,\n",
            "warmup_ratio=0.0,\n",
            "warmup_steps=0,\n",
            "weight_decay=0.0,\n",
            "xpu_backend=None,\n",
            ")\n",
            "Traceback (most recent call last):\n",
            "  File \"starter_kit/run_textclass.py\", line 451, in <module>\n",
            "    main()\n",
            "  File \"starter_kit/run_textclass.py\", line 204, in main\n",
            "    raise ValueError(\n",
            "ValueError: Output directory (/content/drive/MyDrive/afrisent-semeval-2023/models/multilingual) already exists and is not empty. Use --overwrite_output_dir to overcome.\n"
          ]
        }
      ],
      "source": [
        "DATA_DIR = os.path.join(TRAINING_DATA_DIR, 'splitted-train-dev-test', 'multilingual')\n",
        "OUTPUT_DIR = os.path.join(PROJECT_DIR, 'models', 'multilingual')\n",
        "\n",
        "!CUDA_VISIBLE_DEVICES=0 python starter_kit/run_textclass.py \\\n",
        "  --model_name_or_path {MODEL_NAME_OR_PATH} \\\n",
        "  --data_dir {DATA_DIR} \\\n",
        "  --do_train \\\n",
        "  --do_eval \\\n",
        "  --do_predict \\\n",
        "  --per_device_train_batch_size {BATCH_SIZE} \\\n",
        "  --learning_rate {MAXIMUM_SEQUENCE_LENGTH} \\\n",
        "  --num_train_epochs {NUMBER_OF_TRAINING_EPOCHS} \\\n",
        "  --max_seq_length {MAXIMUM_SEQUENCE_LENGTH} \\\n",
        "  --output_dir {OUTPUT_DIR} \\\n",
        "  --save_steps {SAVE_STEPS}"
      ]
    },
    {
      "cell_type": "markdown",
      "metadata": {
        "id": "2lLKHsrEPucP"
      },
      "source": [
        "Now that you trained your best model and find the best  parameters, you can submit your prediction on dev or test set on CodaLab competition page."
      ]
    },
    {
      "cell_type": "markdown",
      "metadata": {
        "id": "g9DeJD4CVmEl"
      },
      "source": [
        "#4) Submission\n",
        "\n",
        "- For submission after training your model, unlabeled tweets were provided for dev (development phase) and test (evaluation phase). \n",
        "\n",
        "- To generate their sentiment prediction, provide the path to the file containing the unlabeled tweets.\n",
        "\n",
        "**What the code does**\n",
        "1. Predicting sentiments of the unlabeled tweets (dev or test)\n",
        "2. Create a file in the submission format"
      ]
    },
    {
      "cell_type": "code",
      "execution_count": null,
      "metadata": {
        "id": "LYL3KcmoWXK1",
        "colab": {
          "base_uri": "https://localhost:8080/"
        },
        "outputId": "3fe5bf0c-3eac-4972-b547-dd98463f38fd"
      },
      "outputs": [
        {
          "output_type": "stream",
          "name": "stdout",
          "text": [
            "/content/drive/MyDrive/afrisent-semeval-2023\n",
            "***** Running Prediction *****\n",
            "  Num examples = 30211\n",
            "  Batch size = 8\n",
            "100% 3777/3777 [18:32<00:00,  3.39it/s]\n",
            "Data directory found.\n"
          ]
        }
      ],
      "source": [
        "%cd {PROJECT_DIR}\n",
        "\n",
        "OUTPUT_DIR = os.path.join(PROJECT_DIR, 'models', 'multilingual'+'_no_test3')\n",
        "FILE_NAME = os.path.join(PROJECT_DIR, TASK, 'test', 'multilingual' + '_test_participants.tsv')\n",
        "TEXT_COLUMN = 'tweet'\n",
        "\n",
        "!python starter_kit/run_predict.py \\\n",
        "  --model_path {OUTPUT_DIR} \\\n",
        "  --file_name {FILE_NAME} \\\n",
        "  --text_column {TEXT_COLUMN} "
      ]
    },
    {
      "cell_type": "markdown",
      "metadata": {
        "id": "JpoGeFwSEfVt"
      },
      "source": [
        "- Congratulations. You now trained sentiment classifier and predict on the unlabelled tweets.\n",
        "\n",
        "- The prediction file (pred_multilingual.tsv) is in \"afrisenti-semval-2023\" folder under \"submissions\" folder and is ready for submission. The submission file is in the format below:\n",
        "\n",
        "<center>\n",
        "\n",
        "|ID | label |\n",
        "|--- | --- |\n",
        "|hau_dev_00001| negative |\n",
        "|hau_dev_00002| positive |\n",
        "|... | ... |\n",
        "\n",
        "</center>\n",
        "\n",
        "- Inside the same folder, you will also see a file \"multilingual_predictions.tsv\" with the format below to see tweets with corresponding sentiment predictions. This file is not for submission.\n",
        "\n",
        "\n",
        "<center>\n",
        "\n",
        "|ID | text | label |\n",
        "|--- | --- | --- | \n",
        "|hau_dev_00001| @user Allah Miki albarkah 🙏🙏🙏 |  positive |\n",
        "|hau_dev_00002| @user Kidan ma zai dadi😂\t |  negative |\n",
        "|... | ... | ... |\n",
        "\n",
        "</center>\n",
        "\n",
        "\n",
        "\n",
        "\n"
      ]
    }
  ],
  "metadata": {
    "accelerator": "GPU",
    "colab": {
      "collapsed_sections": [
        "DObkW3ulM7yg",
        "U-OZxUWIMqtq",
        "jW99ncOhhDEm"
      ],
      "machine_shape": "hm",
      "provenance": []
    },
    "gpuClass": "standard",
    "kernelspec": {
      "display_name": "Python 3.9.12",
      "language": "python",
      "name": "python3"
    },
    "language_info": {
      "name": "python",
      "version": "3.9.12"
    },
    "vscode": {
      "interpreter": {
        "hash": "d203a7fbe37afbb990fedfc21c321928443618f3d7b991e0237ff71906aa031f"
      }
    }
  },
  "nbformat": 4,
  "nbformat_minor": 0
}